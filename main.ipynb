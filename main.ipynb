{
 "cells": [
  {
   "cell_type": "markdown",
   "metadata": {},
   "source": [
    "# Movie Recommendation System\n",
    "<img src=\"images/Bishamon.jpg\" alt=\"Drawing\" style=\"width: 200px;\"/>"
   ]
  },
  {
   "cell_type": "markdown",
   "metadata": {},
   "source": [
    "##### This is my thesis work: \"Making an ML model to making a prediction in cinematography\". The Databases is taken from TMBD, using API\n",
    "----------"
   ]
  },
  {
   "cell_type": "markdown",
   "metadata": {},
   "source": [
    "## What are we exploring today?\n",
    "\n",
    "----------"
   ]
  },
  {
   "cell_type": "markdown",
   "metadata": {},
   "source": [
    "### Objective\n",
    "##### Develop a Movie Recommendation System\n",
    "------"
   ]
  },
  {
   "cell_type": "markdown",
   "metadata": {},
   "source": [
    "##### Tasks\n",
    "- Loading and first look at the data\n",
    "    - Importing relevant libraries\n",
    "    - Downloading dataset\n",
    "    - Checking overall info\n",
    "    - Looking for missing, wrong and bad values\n",
    "- Data Cleaning\n",
    "    - Handle missing values\n",
    "    - Convert date fields\n",
    "    - Normalize financial data\n",
    "    - Split date\n",
    "    - Split multi-value fields\n",
    "- Analysis and visualization\n",
    "    - Top directors and actors\n",
    "    - Budget vs. Box Office\n",
    "    - Genre-based performance\n",
    "- Processing and preparation data for modeling\n",
    "    - Encoding for categorical values\n",
    "    - Choosing a variables for the model, and making new\n",
    "    - Normalization values\n",
    "    - Balancing classes if they are not\n",
    "- Classification creation to predict\n",
    "    - Train/Test split\n",
    "    - Trying different algorithms\n",
    "    - Model scoring\n",
    "- Optimization and choosing hyperparameters\n",
    "    - Optimizing\n",
    "    - Model productive scoring\n",
    "- Conclusion\n",
    "    - Making confusion matrix\n",
    "    - Looking for feature importance\n",
    "    - Conclusion: What Features affect?\n",
    "-------"
   ]
  },
  {
   "cell_type": "markdown",
   "metadata": {},
   "source": [
    "## Importing the libraries"
   ]
  }
 ],
 "metadata": {
  "kernelspec": {
   "display_name": ".venv",
   "language": "python",
   "name": "python3"
  },
  "language_info": {
   "codemirror_mode": {
    "name": "ipython",
    "version": 3
   },
   "file_extension": ".py",
   "mimetype": "text/x-python",
   "name": "python",
   "nbconvert_exporter": "python",
   "pygments_lexer": "ipython3",
   "version": "3.13.2"
  }
 },
 "nbformat": 4,
 "nbformat_minor": 2
}
